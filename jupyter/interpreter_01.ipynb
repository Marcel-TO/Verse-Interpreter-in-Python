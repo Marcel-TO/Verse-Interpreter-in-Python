{
 "cells": [
  {
   "attachments": {},
   "cell_type": "markdown",
   "metadata": {},
   "source": [
    "# Verse Interpreter development"
   ]
  },
  {
   "attachments": {},
   "cell_type": "markdown",
   "metadata": {},
   "source": [
    "Essential installs:\n",
    "- `pip3 install .....`\n",
    "\n",
    "\n",
    "This version is used to test the first steps for the verse interpreter. The final version will be used as a full python file."
   ]
  },
  {
   "cell_type": "code",
   "execution_count": 1,
   "metadata": {},
   "outputs": [],
   "source": [
    "import string\n",
    "import math\n",
    "from enum import Enum"
   ]
  },
  {
   "attachments": {},
   "cell_type": "markdown",
   "metadata": {},
   "source": [
    "## Setting Token Enum for testing purpose"
   ]
  },
  {
   "cell_type": "code",
   "execution_count": 48,
   "metadata": {},
   "outputs": [],
   "source": [
    "class Tokens(Enum):\n",
    "    # Data\n",
    "    Integer = int\n",
    "\n",
    "    # Aritmetics\n",
    "    Plus = \"+\"\n",
    "    Minus = \"-\"\n",
    "    Multiply = \"*\"\n",
    "    Divide = \"/\"\n",
    "\n",
    "    # Mehtods\n",
    "    For = \"for\"\n",
    "    LBracket = \"(\"\n",
    "    RBracket = \")\"\n",
    "\n",
    "    # Else\n",
    "    EOF = None"
   ]
  },
  {
   "cell_type": "code",
   "execution_count": 21,
   "metadata": {},
   "outputs": [
    {
     "data": {
      "text/plain": [
       "[<Tokens.Integer: <class 'int'>>,\n",
       " <Tokens.Plus: '+'>,\n",
       " <Tokens.Minus: '-'>,\n",
       " <Tokens.Multiply: '*'>,\n",
       " <Tokens.Divide: '/'>,\n",
       " <Tokens.EOF: None>]"
      ]
     },
     "execution_count": 21,
     "metadata": {},
     "output_type": "execute_result"
    }
   ],
   "source": [
    "list(Tokens)"
   ]
  },
  {
   "cell_type": "code",
   "execution_count": 37,
   "metadata": {},
   "outputs": [],
   "source": [
    "class Token:\n",
    "    def __init__(self, type: Tokens, value) -> None:\n",
    "        self.type = type\n",
    "        self.value = value"
   ]
  },
  {
   "attachments": {},
   "cell_type": "markdown",
   "metadata": {},
   "source": [
    "## Lexer"
   ]
  },
  {
   "cell_type": "code",
   "execution_count": 77,
   "metadata": {},
   "outputs": [],
   "source": [
    "class lexicon:\n",
    "    def __init__(self, input: string):\n",
    "        self.input = input\n",
    "        self.index = 0\n",
    "        self.current_char = self.input[self.index]\n",
    "\n",
    "    def error():\n",
    "        raise Exception('Invalid character.')\n",
    "    \n",
    "    # moves the pointer a character forward\n",
    "    def forward(self, index):\n",
    "        index += 1\n",
    "\n",
    "        # check if index out of range\n",
    "        if (index >= len(self.input)):\n",
    "            return None,index\n",
    "        \n",
    "        return self.input[index],index\n",
    "    \n",
    "    def future_token(self, index):\n",
    "        index += 1\n",
    "\n",
    "        # check if index out of range\n",
    "        if (index >= len(self.input)):\n",
    "            return None,index\n",
    "        \n",
    "        return self.get_token(self.input[index], index), index\n",
    "    \n",
    "    def to_int(self, index: int):\n",
    "        result = ''\n",
    "\n",
    "        # checks if there are multiple digits\n",
    "        while True:\n",
    "            if index < len(self.input) and self.input[index] != None and self.input[index].isdigit():\n",
    "                result += self.input[index]\n",
    "                _,index = self.forward(index)\n",
    "            else:\n",
    "                break\n",
    "        return result,index\n",
    "    \n",
    "    def get_int(self, index: int):\n",
    "        result,index = self.to_int(index)\n",
    "        return int(result),index\n",
    "    \n",
    "    def get_token(self, char: string, index: int):\n",
    "        if char is None:\n",
    "            return Token(Tokens.EOF),index\n",
    "\n",
    "        if char.isdigit():\n",
    "            result,index = self.get_int(index)\n",
    "            return Token(Tokens.Integer, result),index\n",
    "\n",
    "        if char == Tokens.Divide.value:\n",
    "            return Token(Tokens.Divide, Tokens.Divide.value),index\n",
    "        \n",
    "        if char == Tokens.Multiply.value:\n",
    "            return Token(Tokens.Multiply, Tokens.Multiply.value),index\n",
    "        \n",
    "        if char == Tokens.Plus.value:\n",
    "            return Token(Tokens.Plus, Tokens.Plus.value),index\n",
    "        \n",
    "        if char == Tokens.Minus.value:\n",
    "            return Token(Tokens.Minus, Tokens.Minus.value),index\n",
    "        \n",
    "        if char == ' ':\n",
    "            char,index = self.forward(index)\n",
    "            return self.get_token(char, index)\n",
    "        \n",
    "        return Token(Tokens.EOF),index"
   ]
  },
  {
   "attachments": {},
   "cell_type": "markdown",
   "metadata": {},
   "source": [
    "## Parser"
   ]
  },
  {
   "cell_type": "code",
   "execution_count": null,
   "metadata": {},
   "outputs": [],
   "source": []
  },
  {
   "attachments": {},
   "cell_type": "markdown",
   "metadata": {},
   "source": [
    "## Interpreter"
   ]
  },
  {
   "cell_type": "code",
   "execution_count": 6,
   "metadata": {},
   "outputs": [],
   "source": [
    "class interpreter:\n",
    "    def __init__(self,lexer: lexicon) -> None:\n",
    "        self.lexer = lexer\n",
    "        self.current_token = self.lexer.get_token()\n",
    "        \n",
    "    def expr(self):\n",
    "        \"\"\"Arithmetic expression parser / interpreter.\n",
    "\n",
    "        calc> 7 + 3 * (10 / (12 / (3 + 1) - 1))\n",
    "        22\n",
    "\n",
    "        expr   : term ((PLUS | MINUS) term)*\n",
    "        term   : factor ((MUL | DIV) factor)*\n",
    "        factor : INTEGER | LPAREN expr RPAREN\n",
    "        \"\"\"\n",
    "        result = self.term()\n",
    "\n",
    "        while self.current_token.type in (Tokens.Plus, Tokens.Minus):\n",
    "            token = self.current_token\n",
    "            if token.type == Tokens.Plus:\n",
    "                self.eat(Tokens.Plus)\n",
    "                result = result + self.term()\n",
    "            elif token.type == Tokens.Minus:\n",
    "                self.eat(Tokens.Minus)\n",
    "                result = result - self.term()\n",
    "\n",
    "        return result\n",
    "\n",
    "    def term(self):\n",
    "        pass\n",
    "    \n",
    "    def factor(self):\n",
    "        pass"
   ]
  },
  {
   "cell_type": "code",
   "execution_count": 78,
   "metadata": {},
   "outputs": [
    {
     "name": "stdout",
     "output_type": "stream",
     "text": [
      "723 is of the tokentype: Tokens.Integer\n",
      "+ is of the tokentype: Tokens.Plus\n",
      "2 is of the tokentype: Tokens.Integer\n",
      "- is of the tokentype: Tokens.Minus\n",
      "5 is of the tokentype: Tokens.Integer\n",
      "* is of the tokentype: Tokens.Multiply\n",
      "1235 is of the tokentype: Tokens.Integer\n",
      "/ is of the tokentype: Tokens.Divide\n",
      "100 is of the tokentype: Tokens.Integer\n"
     ]
    }
   ],
   "source": [
    "lexer = lexicon(\"723 + 2 - 5 * 1235 / 100\")\n",
    "\n",
    "while lexer.current_char is not None:\n",
    "    token,lexer.index = lexer.get_token(lexer.current_char, lexer.index)\n",
    "    print(str(token.value) + \" is of the tokentype: \" + str(token.type))\n",
    "    lexer.current_char, lexer.index = lexer.forward(lexer.index)\n",
    "    #print(lexer.future(lexer.index))"
   ]
  }
 ],
 "metadata": {
  "kernelspec": {
   "display_name": "Python 3",
   "language": "python",
   "name": "python3"
  },
  "language_info": {
   "codemirror_mode": {
    "name": "ipython",
    "version": 3
   },
   "file_extension": ".py",
   "mimetype": "text/x-python",
   "name": "python",
   "nbconvert_exporter": "python",
   "pygments_lexer": "ipython3",
   "version": "3.10.2"
  },
  "orig_nbformat": 4
 },
 "nbformat": 4,
 "nbformat_minor": 2
}
