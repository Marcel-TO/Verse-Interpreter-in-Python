{
 "cells": [
  {
   "attachments": {},
   "cell_type": "markdown",
   "metadata": {},
   "source": [
    "# Verse Interpreter development"
   ]
  },
  {
   "attachments": {},
   "cell_type": "markdown",
   "metadata": {},
   "source": [
    "Essential installs:\n",
    "- `pip3 install .....`\n",
    "\n",
    "\n",
    "This version is used to test the first steps for the verse interpreter. The final version will be used as a full python file."
   ]
  },
  {
   "cell_type": "code",
   "execution_count": 44,
   "metadata": {},
   "outputs": [],
   "source": [
    "import string\n",
    "import math\n",
    "from enum import Enum"
   ]
  },
  {
   "attachments": {},
   "cell_type": "markdown",
   "metadata": {},
   "source": [
    "## Setting Token Enum for testing purpose"
   ]
  },
  {
   "cell_type": "code",
   "execution_count": 45,
   "metadata": {},
   "outputs": [],
   "source": [
    "class TokenTypes(Enum):\n",
    "    # Data\n",
    "    INTEGER = int\n",
    "\n",
    "    # Aritmetics\n",
    "    PLUS = \"+\"\n",
    "    MINUS = \"-\"\n",
    "    MULTIPLY = \"*\"\n",
    "    DIVIDE = \"/\"\n",
    "\n",
    "    # Mehtods\n",
    "    FOR = \"for\"\n",
    "    LBRACKET = \"(\"\n",
    "    RBRACKET = \")\"\n",
    "\n",
    "    # Else\n",
    "    EOF = None"
   ]
  },
  {
   "cell_type": "code",
   "execution_count": 43,
   "metadata": {},
   "outputs": [
    {
     "data": {
      "text/plain": [
       "[<TokenTypes.INTEGER: <class 'int'>>,\n",
       " <TokenTypes.PLUS: '+'>,\n",
       " <TokenTypes.MINUS: '-'>,\n",
       " <TokenTypes.MULTIPLY: '*'>,\n",
       " <TokenTypes.DIVIDE: '/'>,\n",
       " <TokenTypes.FOR: 'for'>,\n",
       " <TokenTypes.LBRACKET: '('>,\n",
       " <TokenTypes.RBRACKET: ')'>,\n",
       " <TokenTypes.EOF: None>]"
      ]
     },
     "execution_count": 43,
     "metadata": {},
     "output_type": "execute_result"
    }
   ],
   "source": [
    "list(TokenTypes)"
   ]
  },
  {
   "cell_type": "code",
   "execution_count": 46,
   "metadata": {},
   "outputs": [],
   "source": [
    "class Token:\n",
    "    def __init__(self, type: TokenTypes, value) -> None:\n",
    "        self.type = type\n",
    "        self.value = value"
   ]
  },
  {
   "attachments": {},
   "cell_type": "markdown",
   "metadata": {},
   "source": [
    "## Lexer"
   ]
  },
  {
   "cell_type": "code",
   "execution_count": 49,
   "metadata": {},
   "outputs": [],
   "source": [
    "class lexicon:\n",
    "    def __init__(self, input: string):\n",
    "        self.input = input\n",
    "        self.index = 0\n",
    "        self.current_char = self.input[self.index]\n",
    "    \n",
    "    # moves the pointer a character forward\n",
    "    def forward(self, index) -> tuple[str,int]:\n",
    "        index += 1\n",
    "\n",
    "        # check if index out of range\n",
    "        if (index >= len(self.input)):\n",
    "            return None, index\n",
    "        \n",
    "        return self.input[index],index\n",
    "    \n",
    "    def future_token(self, index) -> tuple[Token,int]:\n",
    "        index += 1\n",
    "\n",
    "        # check if index out of range\n",
    "        if (index >= len(self.input)):\n",
    "            return None,index\n",
    "        \n",
    "        return self.get_token(self.input[index], index)\n",
    "    \n",
    "    def get_int(self, index: int) -> tuple[int,int]:\n",
    "        result = ''\n",
    "\n",
    "        # checks if there are multiple digits\n",
    "        while True:\n",
    "            if index < len(self.input) and self.input[index] != None and self.input[index].isnumeric():\n",
    "                result += self.input[index]\n",
    "\n",
    "                if index + 1 < len(self.input) and self.input[index + 1].isnumeric():\n",
    "                    _,index = self.forward(index)\n",
    "                else:\n",
    "                    break\n",
    "            else:\n",
    "                break\n",
    "\n",
    "        return int(result),index\n",
    "    \n",
    "    def get_token(self, char: string, index: int) -> tuple[Token,int]:\n",
    "        # checks if there is no more character.\n",
    "        if char is None:\n",
    "            return Token(TokenTypes.EOF, None),index\n",
    "        \n",
    "        # skip spaces.\n",
    "        if char == ' ':\n",
    "            char,index = self.forward(index)\n",
    "            return self.get_token(char, index)\n",
    "\n",
    "        # checks if the current character is a number.\n",
    "        if char.isnumeric():\n",
    "            result,index = self.get_int(index)\n",
    "            return Token(TokenTypes.INTEGER, result),index\n",
    "\n",
    "        # checks if the current character is a supported token type.\n",
    "        match char:\n",
    "            case TokenTypes.DIVIDE.value:\n",
    "                return Token(TokenTypes.DIVIDE, TokenTypes.DIVIDE.value),index\n",
    "            case TokenTypes.MULTIPLY.value:\n",
    "                return Token(TokenTypes.MULTIPLY, TokenTypes.MULTIPLY.value),index\n",
    "            case TokenTypes.PLUS.value:\n",
    "                return Token(TokenTypes.PLUS, TokenTypes.PLUS.value),index\n",
    "            case TokenTypes.MINUS.value:\n",
    "                return Token(TokenTypes.MINUS, TokenTypes.MINUS.value),index\n",
    "            case TokenTypes.LBRACKET.value:\n",
    "                return Token(TokenTypes.LBRACKET, TokenTypes.LBRACKET.value),index\n",
    "            case TokenTypes.RBRACKET.value:\n",
    "                return Token(TokenTypes.RBRACKET, TokenTypes.RBRACKET.value),index  \n",
    "                  \n",
    "        return Token(TokenTypes.EOF, None),index"
   ]
  },
  {
   "cell_type": "markdown",
   "metadata": {},
   "source": [
    "## Testing Lexer Types"
   ]
  },
  {
   "cell_type": "code",
   "execution_count": 50,
   "metadata": {},
   "outputs": [
    {
     "name": "stdout",
     "output_type": "stream",
     "text": [
      "723 is of the tokentype: TokenTypes.INTEGER\n",
      "Future:TokenTypes.PLUS\n",
      "\n",
      "+ is of the tokentype: TokenTypes.PLUS\n",
      "Future:TokenTypes.INTEGER\n",
      "\n",
      "2 is of the tokentype: TokenTypes.INTEGER\n",
      "Future:TokenTypes.MINUS\n",
      "\n",
      "- is of the tokentype: TokenTypes.MINUS\n",
      "Future:TokenTypes.INTEGER\n",
      "\n",
      "5 is of the tokentype: TokenTypes.INTEGER\n",
      "Future:TokenTypes.MULTIPLY\n",
      "\n",
      "* is of the tokentype: TokenTypes.MULTIPLY\n",
      "Future:TokenTypes.INTEGER\n",
      "\n",
      "1235 is of the tokentype: TokenTypes.INTEGER\n",
      "Future:TokenTypes.DIVIDE\n",
      "\n",
      "/ is of the tokentype: TokenTypes.DIVIDE\n",
      "Future:TokenTypes.INTEGER\n",
      "\n",
      "100 is of the tokentype: TokenTypes.INTEGER\n"
     ]
    }
   ],
   "source": [
    "lexer = lexicon(\"723 + 2 - 5 * 1235 / 100\")\n",
    "\n",
    "while lexer.current_char is not None:\n",
    "    token,lexer.index = lexer.get_token(lexer.current_char, lexer.index)\n",
    "    print(str(token.value) + \" is of the tokentype: \" + str(token.type))\n",
    "    future_token,index = lexer.future_token(lexer.index)\n",
    "    if future_token is not None:\n",
    "        print(\"Future:\" + str(future_token.type) + \"\\n\")\n",
    "    lexer.current_char, lexer.index = lexer.forward(lexer.index)"
   ]
  },
  {
   "attachments": {},
   "cell_type": "markdown",
   "metadata": {},
   "source": [
    "## Syntax Tree Nodes"
   ]
  },
  {
   "cell_type": "code",
   "execution_count": 51,
   "metadata": {},
   "outputs": [],
   "source": [
    "class BaseNode:\n",
    "    def __init__(self, token) -> None:\n",
    "        self.token = token\n",
    "    \n",
    "    def visit(self, node):\n",
    "        if isinstance(node, OperatorNode):\n",
    "            return self.visit_operatorNode(node)\n",
    "        \n",
    "        return self.visit_numberNode(node)\n",
    "        \n",
    "    def visit_operatorNode(self, node):\n",
    "        match node.token.type:\n",
    "            case TokenTypes.DIVIDE:\n",
    "                return self.visit(node.leftNode) // self.visit(node.rightNode)\n",
    "            case TokenTypes.MULTIPLY:\n",
    "                return self.visit(node.leftNode) * self.visit(node.rightNode)\n",
    "            case TokenTypes.PLUS:\n",
    "                return self.visit(node.leftNode) + self.visit(node.rightNode)\n",
    "            case TokenTypes.MINUS:\n",
    "                return self.visit(node.leftNode) - self.visit(node.rightNode)   \n",
    "\n",
    "    def visit_numberNode(self, node):\n",
    "        return node.value\n",
    "\n",
    "class NumberNode(BaseNode):\n",
    "    def __init__(self, token) -> None:\n",
    "        super().__init__(token)\n",
    "        self.value = token.value\n",
    "\n",
    "class OperatorNode(BaseNode):\n",
    "    def __init__(self, token, leftNode: BaseNode, rightNode: BaseNode) -> None:\n",
    "        super().__init__(token)\n",
    "        self.leftNode = leftNode\n",
    "        self.rightNode = rightNode"
   ]
  },
  {
   "attachments": {},
   "cell_type": "markdown",
   "metadata": {},
   "source": [
    "## Parser"
   ]
  },
  {
   "cell_type": "code",
   "execution_count": 52,
   "metadata": {},
   "outputs": [],
   "source": [
    "class Parser:\n",
    "    def __init__(self, lexer: lexicon) -> None:\n",
    "        self.lexer = lexer\n",
    "        self.current_token, self.index = lexer.get_token(self.lexer.current_char, self.lexer.index)\n",
    "    \n",
    "    def forward(self) -> None:\n",
    "        self.lexer.current_char, self.lexer.index = self.lexer.forward(self.index)\n",
    "        self.current_token, self.index = lexer.get_token(self.lexer.current_char, self.lexer.index)\n",
    "    \n",
    "    def klapu_STRI(self) -> BaseNode:\n",
    "        leftNode = self.kla_PU_stri()\n",
    "        token = self.current_token\n",
    "\n",
    "        if token.type == TokenTypes.PLUS or token.type == TokenTypes.MINUS:\n",
    "            self.forward()\n",
    "        \n",
    "            rightNode = self.kla_PU_stri()\n",
    "            return OperatorNode(token, leftNode, rightNode)\n",
    "        \n",
    "        return leftNode\n",
    "\n",
    "    def kla_PU_stri(self) -> BaseNode:\n",
    "        leftNode = self.KLA_pustri()\n",
    "        token = self.current_token\n",
    "\n",
    "        if token.type == TokenTypes.MULTIPLY or token.type == TokenTypes.DIVIDE:\n",
    "            self.forward()\n",
    "        \n",
    "            rightNode = self.KLA_pustri()\n",
    "            return OperatorNode(token, leftNode,rightNode)\n",
    "        \n",
    "        return leftNode\n",
    "    \n",
    "\n",
    "    def KLA_pustri(self) -> BaseNode:\n",
    "        token = self.current_token\n",
    "\n",
    "        if token.type == TokenTypes.INTEGER:\n",
    "            self.forward()\n",
    "            return NumberNode(token)\n",
    "        \n",
    "        if token.type == TokenTypes.LBRACKET:\n",
    "            self.forward()\n",
    "            node = self.expr()\n",
    "            self.forward()\n",
    "            return node\n",
    "        \n",
    "        return token\n",
    "    \n",
    "    def expr(self) -> BaseNode:\n",
    "        return self.klapu_STRI()\n",
    "    \n",
    "    def parse(self) -> BaseNode:\n",
    "        return self.expr()"
   ]
  },
  {
   "cell_type": "code",
   "execution_count": 53,
   "metadata": {},
   "outputs": [],
   "source": [
    "class Interpreter:\n",
    "    def __init__(self, parser: Parser):\n",
    "        self.parser = parser\n",
    "\n",
    "    def interpret(self):\n",
    "        tree = self.parser.parse()\n",
    "        return tree.visit(tree)"
   ]
  },
  {
   "cell_type": "code",
   "execution_count": 54,
   "metadata": {},
   "outputs": [
    {
     "data": {
      "text/plain": [
       "48"
      ]
     },
     "execution_count": 54,
     "metadata": {},
     "output_type": "execute_result"
    }
   ],
   "source": [
    "text = \"(2 * 3 + 2) * (2 + 4)\"\n",
    "lexer = lexicon(text)\n",
    "parser = Parser(lexer)\n",
    "interpreter = Interpreter(parser)\n",
    "result = interpreter.interpret()\n",
    "result"
   ]
  }
 ],
 "metadata": {
  "kernelspec": {
   "display_name": "Python 3",
   "language": "python",
   "name": "python3"
  },
  "language_info": {
   "codemirror_mode": {
    "name": "ipython",
    "version": 3
   },
   "file_extension": ".py",
   "mimetype": "text/x-python",
   "name": "python",
   "nbconvert_exporter": "python",
   "pygments_lexer": "ipython3",
   "version": "3.10.2"
  },
  "orig_nbformat": 4
 },
 "nbformat": 4,
 "nbformat_minor": 2
}
