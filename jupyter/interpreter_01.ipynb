{
 "cells": [
  {
   "attachments": {},
   "cell_type": "markdown",
   "metadata": {},
   "source": [
    "# Verse Interpreter development"
   ]
  },
  {
   "attachments": {},
   "cell_type": "markdown",
   "metadata": {},
   "source": [
    "Essential installs:\n",
    "- `pip3 install .....`\n",
    "\n",
    "\n",
    "This version is used to test the first steps for the verse interpreter. The final version will be used as a full python file."
   ]
  },
  {
   "cell_type": "code",
   "execution_count": 1,
   "metadata": {},
   "outputs": [],
   "source": [
    "import string\n",
    "import math\n",
    "from enum import Enum"
   ]
  },
  {
   "attachments": {},
   "cell_type": "markdown",
   "metadata": {},
   "source": [
    "## Setting Token Enum for testing purpose"
   ]
  },
  {
   "cell_type": "code",
   "execution_count": 112,
   "metadata": {},
   "outputs": [],
   "source": [
    "class TokenTypes(Enum):\n",
    "    # Data\n",
    "    Integer = int\n",
    "\n",
    "    # Aritmetics\n",
    "    Plus = \"+\"\n",
    "    Minus = \"-\"\n",
    "    Multiply = \"*\"\n",
    "    Divide = \"/\"\n",
    "\n",
    "    # Mehtods\n",
    "    For = \"for\"\n",
    "    LBracket = \"(\"\n",
    "    RBracket = \")\"\n",
    "\n",
    "    # Else\n",
    "    EOF = None"
   ]
  },
  {
   "cell_type": "code",
   "execution_count": 115,
   "metadata": {},
   "outputs": [
    {
     "data": {
      "text/plain": [
       "[<TokenTypes.Integer: <class 'int'>>,\n",
       " <TokenTypes.Plus: '+'>,\n",
       " <TokenTypes.Minus: '-'>,\n",
       " <TokenTypes.Multiply: '*'>,\n",
       " <TokenTypes.Divide: '/'>,\n",
       " <TokenTypes.For: 'for'>,\n",
       " <TokenTypes.LBracket: '('>,\n",
       " <TokenTypes.RBracket: ')'>,\n",
       " <TokenTypes.EOF: None>]"
      ]
     },
     "execution_count": 115,
     "metadata": {},
     "output_type": "execute_result"
    }
   ],
   "source": [
    "list(TokenTypes)"
   ]
  },
  {
   "cell_type": "code",
   "execution_count": 117,
   "metadata": {},
   "outputs": [],
   "source": [
    "class Token:\n",
    "    def __init__(self, type: TokenTypes, value) -> None:\n",
    "        self.type = type\n",
    "        self.value = value"
   ]
  },
  {
   "attachments": {},
   "cell_type": "markdown",
   "metadata": {},
   "source": [
    "## Lexer"
   ]
  },
  {
   "cell_type": "code",
   "execution_count": 159,
   "metadata": {},
   "outputs": [
    {
     "ename": "IndentationError",
     "evalue": "unindent does not match any outer indentation level (<tokenize>, line 65)",
     "output_type": "error",
     "traceback": [
      "\u001b[0;36m  File \u001b[0;32m<tokenize>:65\u001b[0;36m\u001b[0m\n\u001b[0;31m    if char == TokenTypes.RBracket.value:\u001b[0m\n\u001b[0m    ^\u001b[0m\n\u001b[0;31mIndentationError\u001b[0m\u001b[0;31m:\u001b[0m unindent does not match any outer indentation level\n"
     ]
    }
   ],
   "source": [
    "class lexicon:\n",
    "    def __init__(self, input: string):\n",
    "        self.input = input\n",
    "        self.index = 0\n",
    "        self.current_char = self.input[self.index]\n",
    "\n",
    "    def error():\n",
    "        raise Exception('Invalid character.')\n",
    "    \n",
    "    # moves the pointer a character forward\n",
    "    def forward(self, index) -> tuple[str,int]:\n",
    "        index += 1\n",
    "\n",
    "        # check if index out of range\n",
    "        if (index >= len(self.input)):\n",
    "            return None, index\n",
    "        \n",
    "        return self.input[index],index\n",
    "    \n",
    "    def future_token(self, index) -> tuple[Token,int]:\n",
    "        index += 1\n",
    "\n",
    "        # check if index out of range\n",
    "        if (index >= len(self.input)):\n",
    "            return None,index\n",
    "        \n",
    "        return self.get_token(self.input[index], index)\n",
    "    \n",
    "    def get_int(self, index: int) -> tuple[int,int]:\n",
    "        result = ''\n",
    "\n",
    "        # checks if there are multiple digits\n",
    "        while True:\n",
    "            if index < len(self.input) and self.input[index] != None and self.input[index].isdigit():\n",
    "                result += self.input[index]\n",
    "                _,index = self.forward(index)\n",
    "            else:\n",
    "                break\n",
    "\n",
    "        return int(result),index\n",
    "    \n",
    "    def get_token(self, char: string, index: int) -> tuple[Token,int]:\n",
    "        if char is None:\n",
    "            return Token(TokenTypes.EOF, None),index\n",
    "\n",
    "        if char.isdigit():\n",
    "            result,index = self.get_int(index)\n",
    "            return Token(TokenTypes.Integer, result),index\n",
    "\n",
    "        if char == TokenTypes.Divide.value:\n",
    "            return Token(TokenTypes.Divide, TokenTypes.Divide.value),index\n",
    "        \n",
    "        if char == TokenTypes.Multiply.value:\n",
    "            return Token(TokenTypes.Multiply, TokenTypes.Multiply.value),index\n",
    "        \n",
    "        if char == TokenTypes.Plus.value:\n",
    "            return Token(TokenTypes.Plus, TokenTypes.Plus.value),index\n",
    "        \n",
    "        if char == TokenTypes.Minus.value:\n",
    "            return Token(TokenTypes.Minus, TokenTypes.Minus.value),index\n",
    "        \n",
    "        if char == TokenTypes.LBracket.value:\n",
    "            return Token(TokenTypes.LBracket, TokenTypes.LBracket.value),index\n",
    "        \n",
    "          if char == TokenTypes.RBracket.value:\n",
    "            return Token(TokenTypes.RBracket, TokenTypes.LBracket.value),index\n",
    "        \n",
    "        if char == ' ':\n",
    "            char,index = self.forward(index)\n",
    "            return self.get_token(char, index)\n",
    "        \n",
    "        return Token(TokenTypes.EOF, None),index"
   ]
  },
  {
   "cell_type": "markdown",
   "metadata": {},
   "source": [
    "## Testing Lexer Types"
   ]
  },
  {
   "cell_type": "code",
   "execution_count": 118,
   "metadata": {},
   "outputs": [
    {
     "name": "stdout",
     "output_type": "stream",
     "text": [
      "723 is of the tokentype: TokenTypes.Integer\n",
      "Future:TokenTypes.Plus\n",
      "\n",
      "+ is of the tokentype: TokenTypes.Plus\n",
      "Future:TokenTypes.Integer\n",
      "\n",
      "2 is of the tokentype: TokenTypes.Integer\n",
      "Future:TokenTypes.Minus\n",
      "\n",
      "- is of the tokentype: TokenTypes.Minus\n",
      "Future:TokenTypes.Integer\n",
      "\n",
      "5 is of the tokentype: TokenTypes.Integer\n",
      "Future:TokenTypes.Multiply\n",
      "\n",
      "* is of the tokentype: TokenTypes.Multiply\n",
      "Future:TokenTypes.Integer\n",
      "\n",
      "1235 is of the tokentype: TokenTypes.Integer\n",
      "Future:TokenTypes.Divide\n",
      "\n",
      "/ is of the tokentype: TokenTypes.Divide\n",
      "Future:TokenTypes.Integer\n",
      "\n",
      "100 is of the tokentype: TokenTypes.Integer\n"
     ]
    }
   ],
   "source": [
    "lexer = lexicon(\"723 + 2 - 5 * 1235 / 100\")\n",
    "\n",
    "while lexer.current_char is not None:\n",
    "    token,lexer.index = lexer.get_token(lexer.current_char, lexer.index)\n",
    "    print(str(token.value) + \" is of the tokentype: \" + str(token.type))\n",
    "    future_token,index = lexer.future_token(lexer.index)\n",
    "    if future_token is not None:\n",
    "        print(\"Future:\" + str(future_token.type) + \"\\n\")\n",
    "    lexer.current_char, lexer.index = lexer.forward(lexer.index)"
   ]
  },
  {
   "attachments": {},
   "cell_type": "markdown",
   "metadata": {},
   "source": [
    "## Syntax Tree Nodes"
   ]
  },
  {
   "cell_type": "code",
   "execution_count": 122,
   "metadata": {},
   "outputs": [],
   "source": [
    "class BaseNode:\n",
    "    def __init__(self, token) -> None:\n",
    "        self.token = token\n",
    "\n",
    "class NumberNode(BaseNode):\n",
    "    def __init__(self, token) -> None:\n",
    "        super().__init__(token)\n",
    "\n",
    "class OperatorNode(BaseNode):\n",
    "    def __init__(self, token, leftNode: BaseNode, rightNode: BaseNode) -> None:\n",
    "        super().__init__(token)\n",
    "        self.leftNode = leftNode\n",
    "        self.rightNode = rightNode"
   ]
  },
  {
   "attachments": {},
   "cell_type": "markdown",
   "metadata": {},
   "source": [
    "## Parser"
   ]
  },
  {
   "cell_type": "code",
   "execution_count": 163,
   "metadata": {},
   "outputs": [],
   "source": [
    "class Parser:\n",
    "    def __init__(self, lexer: lexicon) -> None:\n",
    "        self.lexer = lexer\n",
    "        self.current_token, self.index = lexer.get_token(self.lexer.current_char, self.lexer.index)\n",
    "    \n",
    "    def forward(self) -> None:\n",
    "        self.lexer.current_char, self.lexer.index = self.lexer.forward(self.index)\n",
    "        self.current_token, self.index = lexer.get_token(self.lexer.current_char, self.lexer.index)\n",
    "    \n",
    "    def expr(self):\n",
    "        leftNode = self.term()\n",
    "        token = self.current_token\n",
    "\n",
    "        if token.type == TokenTypes.Plus or token.type == TokenTypes.Minus:\n",
    "            self.forward()\n",
    "        \n",
    "        rightNode = self.term()\n",
    "        return OperatorNode(leftNode, token, rightNode)\n",
    "\n",
    "    def term(self):\n",
    "        leftNode = self.factor()\n",
    "        token = self.current_token\n",
    "\n",
    "        if token.type == TokenTypes.Multiply or token.type == TokenTypes.Divide:\n",
    "            self.forward()\n",
    "        \n",
    "        rightNode = self.factor()\n",
    "        return OperatorNode(leftNode,token,rightNode)\n",
    "\n",
    "    def factor(self):\n",
    "        token = self.current_token\n",
    "\n",
    "        if token.type == TokenTypes.Integer:\n",
    "            self.forward()\n",
    "            return NumberNode(token)\n",
    "        \n",
    "        if token.type == TokenTypes.LBracket:\n",
    "            self.forward()\n",
    "            node = self.expr()\n",
    "            self.forward()\n",
    "            return node\n",
    "    \n",
    "    def parse(self):\n",
    "        return self.expr()"
   ]
  },
  {
   "cell_type": "code",
   "execution_count": 165,
   "metadata": {},
   "outputs": [],
   "source": [
    "class Interpreter:\n",
    "    def __init__(self, parser):\n",
    "        self.parser = parser\n",
    "\n",
    "    def Ovisitor(self, node: OperatorNode):\n",
    "        if node.token.type == TokenTypes.Plus:\n",
    "            return self.visit(node.left) + self.visit(node.right)\n",
    "        elif node.token.type == TokenTypes.Minus:\n",
    "            return self.visit(node.left) - self.visit(node.right)\n",
    "        elif node.token.type == TokenTypes.Multiply:\n",
    "            return self.visit(node.left) * self.visit(node.right)\n",
    "        elif node.token.type == TokenTypes.Divide:\n",
    "            return self.visit(node.left) // self.visit(node.right)\n",
    "\n",
    "    def Nvisitor(self, node: NumberNode):\n",
    "        return node.value\n",
    "\n",
    "    def interpret(self):\n",
    "        tree = self.parser.parse()\n",
    "        return self.visit(tree)\n",
    "    \n",
    "    def visit(self, node):\n",
    "        if node == OperatorNode:\n",
    "            return self.Ovisitor(node)\n",
    "        \n",
    "        return self.Nvisitor(node)"
   ]
  },
  {
   "cell_type": "code",
   "execution_count": 166,
   "metadata": {},
   "outputs": [
    {
     "ename": "AttributeError",
     "evalue": "'OperatorNode' object has no attribute 'value'",
     "output_type": "error",
     "traceback": [
      "\u001b[0;31m---------------------------------------------------------------------------\u001b[0m",
      "\u001b[0;31mAttributeError\u001b[0m                            Traceback (most recent call last)",
      "\u001b[1;32m/Users/marcel/Desktop/Studium/4.Semester/Logik Programmierung/Teamprojekt/GIT/jupyter/interpreter_01.ipynb Cell 17\u001b[0m in \u001b[0;36m<cell line: 5>\u001b[0;34m()\u001b[0m\n\u001b[1;32m      <a href='vscode-notebook-cell:/Users/marcel/Desktop/Studium/4.Semester/Logik%20Programmierung/Teamprojekt/GIT/jupyter/interpreter_01.ipynb#X32sZmlsZQ%3D%3D?line=2'>3</a>\u001b[0m parser \u001b[39m=\u001b[39m Parser(lexer)\n\u001b[1;32m      <a href='vscode-notebook-cell:/Users/marcel/Desktop/Studium/4.Semester/Logik%20Programmierung/Teamprojekt/GIT/jupyter/interpreter_01.ipynb#X32sZmlsZQ%3D%3D?line=3'>4</a>\u001b[0m interpreter \u001b[39m=\u001b[39m Interpreter(parser)\n\u001b[0;32m----> <a href='vscode-notebook-cell:/Users/marcel/Desktop/Studium/4.Semester/Logik%20Programmierung/Teamprojekt/GIT/jupyter/interpreter_01.ipynb#X32sZmlsZQ%3D%3D?line=4'>5</a>\u001b[0m result \u001b[39m=\u001b[39m interpreter\u001b[39m.\u001b[39minterpret()\n\u001b[1;32m      <a href='vscode-notebook-cell:/Users/marcel/Desktop/Studium/4.Semester/Logik%20Programmierung/Teamprojekt/GIT/jupyter/interpreter_01.ipynb#X32sZmlsZQ%3D%3D?line=5'>6</a>\u001b[0m \u001b[39mprint\u001b[39m(result)\n",
      "\u001b[1;32m/Users/marcel/Desktop/Studium/4.Semester/Logik Programmierung/Teamprojekt/GIT/jupyter/interpreter_01.ipynb Cell 17\u001b[0m in \u001b[0;36mInterpreter.interpret\u001b[0;34m(self)\u001b[0m\n\u001b[1;32m     <a href='vscode-notebook-cell:/Users/marcel/Desktop/Studium/4.Semester/Logik%20Programmierung/Teamprojekt/GIT/jupyter/interpreter_01.ipynb#X32sZmlsZQ%3D%3D?line=17'>18</a>\u001b[0m \u001b[39mdef\u001b[39;00m \u001b[39minterpret\u001b[39m(\u001b[39mself\u001b[39m):\n\u001b[1;32m     <a href='vscode-notebook-cell:/Users/marcel/Desktop/Studium/4.Semester/Logik%20Programmierung/Teamprojekt/GIT/jupyter/interpreter_01.ipynb#X32sZmlsZQ%3D%3D?line=18'>19</a>\u001b[0m     tree \u001b[39m=\u001b[39m \u001b[39mself\u001b[39m\u001b[39m.\u001b[39mparser\u001b[39m.\u001b[39mparse()\n\u001b[0;32m---> <a href='vscode-notebook-cell:/Users/marcel/Desktop/Studium/4.Semester/Logik%20Programmierung/Teamprojekt/GIT/jupyter/interpreter_01.ipynb#X32sZmlsZQ%3D%3D?line=19'>20</a>\u001b[0m     \u001b[39mreturn\u001b[39;00m \u001b[39mself\u001b[39;49m\u001b[39m.\u001b[39;49mvisit(tree)\n",
      "\u001b[1;32m/Users/marcel/Desktop/Studium/4.Semester/Logik Programmierung/Teamprojekt/GIT/jupyter/interpreter_01.ipynb Cell 17\u001b[0m in \u001b[0;36mInterpreter.visit\u001b[0;34m(self, node)\u001b[0m\n\u001b[1;32m     <a href='vscode-notebook-cell:/Users/marcel/Desktop/Studium/4.Semester/Logik%20Programmierung/Teamprojekt/GIT/jupyter/interpreter_01.ipynb#X32sZmlsZQ%3D%3D?line=22'>23</a>\u001b[0m \u001b[39mif\u001b[39;00m node \u001b[39m==\u001b[39m OperatorNode:\n\u001b[1;32m     <a href='vscode-notebook-cell:/Users/marcel/Desktop/Studium/4.Semester/Logik%20Programmierung/Teamprojekt/GIT/jupyter/interpreter_01.ipynb#X32sZmlsZQ%3D%3D?line=23'>24</a>\u001b[0m     \u001b[39mreturn\u001b[39;00m \u001b[39mself\u001b[39m\u001b[39m.\u001b[39mOvisitor(node)\n\u001b[0;32m---> <a href='vscode-notebook-cell:/Users/marcel/Desktop/Studium/4.Semester/Logik%20Programmierung/Teamprojekt/GIT/jupyter/interpreter_01.ipynb#X32sZmlsZQ%3D%3D?line=25'>26</a>\u001b[0m \u001b[39mreturn\u001b[39;00m \u001b[39mself\u001b[39;49m\u001b[39m.\u001b[39;49mNvisitor(node)\n",
      "\u001b[1;32m/Users/marcel/Desktop/Studium/4.Semester/Logik Programmierung/Teamprojekt/GIT/jupyter/interpreter_01.ipynb Cell 17\u001b[0m in \u001b[0;36mInterpreter.Nvisitor\u001b[0;34m(self, node)\u001b[0m\n\u001b[1;32m     <a href='vscode-notebook-cell:/Users/marcel/Desktop/Studium/4.Semester/Logik%20Programmierung/Teamprojekt/GIT/jupyter/interpreter_01.ipynb#X32sZmlsZQ%3D%3D?line=14'>15</a>\u001b[0m \u001b[39mdef\u001b[39;00m \u001b[39mNvisitor\u001b[39m(\u001b[39mself\u001b[39m, node: NumberNode):\n\u001b[0;32m---> <a href='vscode-notebook-cell:/Users/marcel/Desktop/Studium/4.Semester/Logik%20Programmierung/Teamprojekt/GIT/jupyter/interpreter_01.ipynb#X32sZmlsZQ%3D%3D?line=15'>16</a>\u001b[0m     \u001b[39mreturn\u001b[39;00m node\u001b[39m.\u001b[39;49mvalue\n",
      "\u001b[0;31mAttributeError\u001b[0m: 'OperatorNode' object has no attribute 'value'"
     ]
    }
   ],
   "source": [
    "text = \"3 * (2 + 4)\"\n",
    "lexer = lexicon(text)\n",
    "parser = Parser(lexer)\n",
    "interpreter = Interpreter(parser)\n",
    "result = interpreter.interpret()\n",
    "print(result)"
   ]
  }
 ],
 "metadata": {
  "kernelspec": {
   "display_name": "Python 3",
   "language": "python",
   "name": "python3"
  },
  "language_info": {
   "codemirror_mode": {
    "name": "ipython",
    "version": 3
   },
   "file_extension": ".py",
   "mimetype": "text/x-python",
   "name": "python",
   "nbconvert_exporter": "python",
   "pygments_lexer": "ipython3",
   "version": "3.10.2"
  },
  "orig_nbformat": 4
 },
 "nbformat": 4,
 "nbformat_minor": 2
}
