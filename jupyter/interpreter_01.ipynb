{
 "cells": [
  {
   "attachments": {},
   "cell_type": "markdown",
   "metadata": {},
   "source": [
    "# Verse Interpreter development"
   ]
  },
  {
   "attachments": {},
   "cell_type": "markdown",
   "metadata": {},
   "source": [
    "Essential installs:\n",
    "- `pip3 install .....`\n",
    "\n",
    "\n",
    "This version is used to test the first steps for the verse interpreter. The final version will be used as a full python file."
   ]
  },
  {
   "cell_type": "code",
   "execution_count": 3,
   "metadata": {},
   "outputs": [],
   "source": [
    "import string\n",
    "import math\n",
    "from enum import Enum"
   ]
  },
  {
   "attachments": {},
   "cell_type": "markdown",
   "metadata": {},
   "source": [
    "## Setting Token Enum for testing purpose"
   ]
  },
  {
   "cell_type": "code",
   "execution_count": 4,
   "metadata": {},
   "outputs": [],
   "source": [
    "class TokenTypes(Enum):\n",
    "    # Data\n",
    "    Integer = int\n",
    "\n",
    "    # Aritmetics\n",
    "    Plus = \"+\"\n",
    "    Minus = \"-\"\n",
    "    Multiply = \"*\"\n",
    "    Divide = \"/\"\n",
    "\n",
    "    # Mehtods\n",
    "    For = \"for\"\n",
    "    LBracket = \"(\"\n",
    "    RBracket = \")\"\n",
    "\n",
    "    # Else\n",
    "    EOF = None"
   ]
  },
  {
   "cell_type": "code",
   "execution_count": 115,
   "metadata": {},
   "outputs": [
    {
     "data": {
      "text/plain": [
       "[<TokenTypes.Integer: <class 'int'>>,\n",
       " <TokenTypes.Plus: '+'>,\n",
       " <TokenTypes.Minus: '-'>,\n",
       " <TokenTypes.Multiply: '*'>,\n",
       " <TokenTypes.Divide: '/'>,\n",
       " <TokenTypes.For: 'for'>,\n",
       " <TokenTypes.LBracket: '('>,\n",
       " <TokenTypes.RBracket: ')'>,\n",
       " <TokenTypes.EOF: None>]"
      ]
     },
     "execution_count": 115,
     "metadata": {},
     "output_type": "execute_result"
    }
   ],
   "source": [
    "list(TokenTypes)"
   ]
  },
  {
   "cell_type": "code",
   "execution_count": 5,
   "metadata": {},
   "outputs": [],
   "source": [
    "class Token:\n",
    "    def __init__(self, type: TokenTypes, value) -> None:\n",
    "        self.type = type\n",
    "        self.value = value"
   ]
  },
  {
   "attachments": {},
   "cell_type": "markdown",
   "metadata": {},
   "source": [
    "## Lexer"
   ]
  },
  {
   "cell_type": "code",
   "execution_count": 8,
   "metadata": {},
   "outputs": [],
   "source": [
    "class lexicon:\n",
    "    def __init__(self, input: string):\n",
    "        self.input = input\n",
    "        self.index = 0\n",
    "        self.current_char = self.input[self.index]\n",
    "\n",
    "    def error():\n",
    "        raise Exception('Invalid character.')\n",
    "    \n",
    "    # moves the pointer a character forward\n",
    "    def forward(self, index) -> tuple[str,int]:\n",
    "        index += 1\n",
    "\n",
    "        # check if index out of range\n",
    "        if (index >= len(self.input)):\n",
    "            return None, index\n",
    "        \n",
    "        return self.input[index],index\n",
    "    \n",
    "    def future_token(self, index) -> tuple[Token,int]:\n",
    "        index += 1\n",
    "\n",
    "        # check if index out of range\n",
    "        if (index >= len(self.input)):\n",
    "            return None,index\n",
    "        \n",
    "        return self.get_token(self.input[index], index)\n",
    "    \n",
    "    def get_int(self, index: int) -> tuple[int,int]:\n",
    "        result = ''\n",
    "\n",
    "        # checks if there are multiple digits\n",
    "        while True:\n",
    "            if index < len(self.input) and self.input[index] != None and self.input[index].isdigit():\n",
    "                result += self.input[index]\n",
    "                _,index = self.forward(index)\n",
    "            else:\n",
    "                break\n",
    "\n",
    "        return int(result),index\n",
    "    \n",
    "    def get_token(self, char: string, index: int) -> tuple[Token,int]:\n",
    "        if char is None:\n",
    "            return Token(TokenTypes.EOF, None),index\n",
    "\n",
    "        if char.isdigit():\n",
    "            result,index = self.get_int(index)\n",
    "            return Token(TokenTypes.Integer, result),index\n",
    "\n",
    "        if char == TokenTypes.Divide.value:\n",
    "            return Token(TokenTypes.Divide, TokenTypes.Divide.value),index\n",
    "        \n",
    "        if char == TokenTypes.Multiply.value:\n",
    "            return Token(TokenTypes.Multiply, TokenTypes.Multiply.value),index\n",
    "        \n",
    "        if char == TokenTypes.Plus.value:\n",
    "            return Token(TokenTypes.Plus, TokenTypes.Plus.value),index\n",
    "        \n",
    "        if char == TokenTypes.Minus.value:\n",
    "            return Token(TokenTypes.Minus, TokenTypes.Minus.value),index\n",
    "        \n",
    "        if char == TokenTypes.LBracket.value:\n",
    "            return Token(TokenTypes.LBracket, TokenTypes.LBracket.value),index\n",
    "        \n",
    "        if char == TokenTypes.RBracket.value:\n",
    "            return Token(TokenTypes.RBracket, TokenTypes.LBracket.value),index\n",
    "        \n",
    "        if char == ' ':\n",
    "            char,index = self.forward(index)\n",
    "            return self.get_token(char, index)\n",
    "        \n",
    "        return Token(TokenTypes.EOF, None),index"
   ]
  },
  {
   "cell_type": "markdown",
   "metadata": {},
   "source": [
    "## Testing Lexer Types"
   ]
  },
  {
   "cell_type": "code",
   "execution_count": 9,
   "metadata": {},
   "outputs": [
    {
     "name": "stdout",
     "output_type": "stream",
     "text": [
      "723 is of the tokentype: TokenTypes.Integer\n",
      "Future:TokenTypes.Plus\n",
      "\n",
      "+ is of the tokentype: TokenTypes.Plus\n",
      "Future:TokenTypes.Integer\n",
      "\n",
      "2 is of the tokentype: TokenTypes.Integer\n",
      "Future:TokenTypes.Minus\n",
      "\n",
      "- is of the tokentype: TokenTypes.Minus\n",
      "Future:TokenTypes.Integer\n",
      "\n",
      "5 is of the tokentype: TokenTypes.Integer\n",
      "Future:TokenTypes.Multiply\n",
      "\n",
      "* is of the tokentype: TokenTypes.Multiply\n",
      "Future:TokenTypes.Integer\n",
      "\n",
      "1235 is of the tokentype: TokenTypes.Integer\n",
      "Future:TokenTypes.Divide\n",
      "\n",
      "/ is of the tokentype: TokenTypes.Divide\n",
      "Future:TokenTypes.Integer\n",
      "\n",
      "100 is of the tokentype: TokenTypes.Integer\n"
     ]
    }
   ],
   "source": [
    "lexer = lexicon(\"723 + 2 - 5 * 1235 / 100\")\n",
    "\n",
    "while lexer.current_char is not None:\n",
    "    token,lexer.index = lexer.get_token(lexer.current_char, lexer.index)\n",
    "    print(str(token.value) + \" is of the tokentype: \" + str(token.type))\n",
    "    future_token,index = lexer.future_token(lexer.index)\n",
    "    if future_token is not None:\n",
    "        print(\"Future:\" + str(future_token.type) + \"\\n\")\n",
    "    lexer.current_char, lexer.index = lexer.forward(lexer.index)"
   ]
  },
  {
   "attachments": {},
   "cell_type": "markdown",
   "metadata": {},
   "source": [
    "## Syntax Tree Nodes"
   ]
  },
  {
   "cell_type": "code",
   "execution_count": 48,
   "metadata": {},
   "outputs": [],
   "source": [
    "class BaseNode:\n",
    "    def __init__(self, token) -> None:\n",
    "        self.token = token\n",
    "\n",
    "class NumberNode(BaseNode):\n",
    "    def __init__(self, token) -> None:\n",
    "        super().__init__(token)\n",
    "        self.value = token.value\n",
    "\n",
    "class OperatorNode(BaseNode):\n",
    "    def __init__(self, token, leftNode: BaseNode, rightNode: BaseNode) -> None:\n",
    "        super().__init__(token)\n",
    "        self.leftNode = leftNode\n",
    "        self.rightNode = rightNode"
   ]
  },
  {
   "attachments": {},
   "cell_type": "markdown",
   "metadata": {},
   "source": [
    "## Parser"
   ]
  },
  {
   "cell_type": "code",
   "execution_count": 22,
   "metadata": {},
   "outputs": [],
   "source": [
    "class Parser:\n",
    "    def __init__(self, lexer: lexicon) -> None:\n",
    "        self.lexer = lexer\n",
    "        self.current_token, self.index = lexer.get_token(self.lexer.current_char, self.lexer.index)\n",
    "    \n",
    "    def forward(self) -> None:\n",
    "        self.lexer.current_char, self.lexer.index = self.lexer.forward(self.index)\n",
    "        self.current_token, self.index = lexer.get_token(self.lexer.current_char, self.lexer.index)\n",
    "    \n",
    "    def expr(self):\n",
    "        leftNode = self.term()\n",
    "        token = self.current_token\n",
    "\n",
    "        if token.type == TokenTypes.Plus or token.type == TokenTypes.Minus:\n",
    "            self.forward()\n",
    "        \n",
    "            rightNode = self.term()\n",
    "            return OperatorNode(token, leftNode, rightNode)\n",
    "        \n",
    "        return leftNode\n",
    "\n",
    "    def term(self):\n",
    "        leftNode = self.factor()\n",
    "        token = self.current_token\n",
    "\n",
    "        if token.type == TokenTypes.Multiply or token.type == TokenTypes.Divide:\n",
    "            self.forward()\n",
    "        \n",
    "            rightNode = self.factor()\n",
    "            return OperatorNode(token, leftNode,rightNode)\n",
    "        \n",
    "        return leftNode\n",
    "    \n",
    "\n",
    "    def factor(self):\n",
    "        token = self.current_token\n",
    "\n",
    "        if token.type == TokenTypes.Integer:\n",
    "            self.forward()\n",
    "            return NumberNode(token)\n",
    "        \n",
    "        if token.type == TokenTypes.LBracket:\n",
    "            self.forward()\n",
    "            node = self.expr()\n",
    "            self.forward()\n",
    "            return node\n",
    "        \n",
    "        return token\n",
    "    \n",
    "    def parse(self):\n",
    "        return self.expr()"
   ]
  },
  {
   "cell_type": "code",
   "execution_count": 46,
   "metadata": {},
   "outputs": [],
   "source": [
    "class Interpreter:\n",
    "    def __init__(self, parser):\n",
    "        self.parser = parser\n",
    "\n",
    "    def Ovisitor(self, node: OperatorNode):\n",
    "        if node.token.type == TokenTypes.Plus:\n",
    "            return self.visit(node.leftNode) + self.visit(node.rightNode)\n",
    "        elif node.token.type == TokenTypes.Minus:\n",
    "            return self.visit(node.leftNode) - self.visit(node.rightNode)\n",
    "        elif node.token.type == TokenTypes.Multiply:\n",
    "            return self.visit(node.leftNode) * self.visit(node.rightNode)\n",
    "        elif node.token.type == TokenTypes.Divide:\n",
    "            return self.visit(node.leftNode) // self.visit(node.rightNode)\n",
    "\n",
    "    def Nvisitor(self, node: NumberNode):\n",
    "        return node.value\n",
    "\n",
    "    def interpret(self):\n",
    "        tree = self.parser.parse()\n",
    "        return self.visit(tree)\n",
    "    \n",
    "    def visit(self, node: BaseNode):\n",
    "        if type(node) == OperatorNode:\n",
    "            return self.Ovisitor(node)\n",
    "        \n",
    "        return self.Nvisitor(node)"
   ]
  },
  {
   "cell_type": "code",
   "execution_count": 49,
   "metadata": {},
   "outputs": [
    {
     "data": {
      "text/plain": [
       "18"
      ]
     },
     "execution_count": 49,
     "metadata": {},
     "output_type": "execute_result"
    }
   ],
   "source": [
    "text = \"3 * (2 + 4)\"\n",
    "lexer = lexicon(text)\n",
    "parser = Parser(lexer)\n",
    "interpreter = Interpreter(parser)\n",
    "result = interpreter.interpret()\n",
    "result"
   ]
  }
 ],
 "metadata": {
  "kernelspec": {
   "display_name": "Python 3",
   "language": "python",
   "name": "python3"
  },
  "language_info": {
   "codemirror_mode": {
    "name": "ipython",
    "version": 3
   },
   "file_extension": ".py",
   "mimetype": "text/x-python",
   "name": "python",
   "nbconvert_exporter": "python",
   "pygments_lexer": "ipython3",
   "version": "3.10.2"
  },
  "orig_nbformat": 4
 },
 "nbformat": 4,
 "nbformat_minor": 2
}
