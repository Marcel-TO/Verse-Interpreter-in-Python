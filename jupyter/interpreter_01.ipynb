{
 "cells": [
  {
   "attachments": {},
   "cell_type": "markdown",
   "metadata": {},
   "source": [
    "# Verse Interpreter development"
   ]
  },
  {
   "attachments": {},
   "cell_type": "markdown",
   "metadata": {},
   "source": [
    "Essential installs:\n",
    "- `pip3 install .....`\n",
    "\n",
    "\n",
    "This version is used to test the first steps for the verse interpreter. The final version will be used as a full python file."
   ]
  },
  {
   "cell_type": "code",
   "execution_count": 1,
   "metadata": {},
   "outputs": [],
   "source": [
    "import string\n",
    "import math\n",
    "from enum import Enum"
   ]
  },
  {
   "attachments": {},
   "cell_type": "markdown",
   "metadata": {},
   "source": [
    "## Setting Token Enum for testing purpose"
   ]
  },
  {
   "cell_type": "code",
   "execution_count": 2,
   "metadata": {},
   "outputs": [],
   "source": [
    "class TokenTypes(Enum):\n",
    "    # Data\n",
    "    INTEGER = int\n",
    "\n",
    "    # Aritmetics\n",
    "    PLUS = \"+\"\n",
    "    MINUS = \"-\"\n",
    "    MULTIPLY = \"*\"\n",
    "    DIVIDE = \"/\"\n",
    "\n",
    "    # Mehtods\n",
    "    FOR = \"for\"\n",
    "    LBRACKET = \"(\"\n",
    "    RBRACKET = \")\"\n",
    "\n",
    "    # Else\n",
    "    EOF = None"
   ]
  },
  {
   "cell_type": "code",
   "execution_count": 25,
   "metadata": {},
   "outputs": [
    {
     "data": {
      "text/plain": [
       "[<TokenTypes.INTEGER: <class 'int'>>,\n",
       " <TokenTypes.PLUS: '+'>,\n",
       " <TokenTypes.MINUS: '-'>,\n",
       " <TokenTypes.MULTIPLY: '*'>,\n",
       " <TokenTypes.DIVIDE: '/'>,\n",
       " <TokenTypes.FOR: 'for'>,\n",
       " <TokenTypes.LBRACKET: '('>,\n",
       " <TokenTypes.RBRACKET: ')'>,\n",
       " <TokenTypes.EOF: None>]"
      ]
     },
     "execution_count": 25,
     "metadata": {},
     "output_type": "execute_result"
    }
   ],
   "source": [
    "list(TokenTypes)"
   ]
  },
  {
   "cell_type": "code",
   "execution_count": 3,
   "metadata": {},
   "outputs": [],
   "source": [
    "class Token:\n",
    "    def __init__(self, type: TokenTypes, value) -> None:\n",
    "        self.type = type\n",
    "        self.value = value"
   ]
  },
  {
   "attachments": {},
   "cell_type": "markdown",
   "metadata": {},
   "source": [
    "## Lexer"
   ]
  },
  {
   "cell_type": "code",
   "execution_count": 11,
   "metadata": {},
   "outputs": [],
   "source": [
    "class lexicon:\n",
    "    def __init__(self, input: string):\n",
    "        self.input = input\n",
    "        self.index = 0\n",
    "        self.current_char = self.input[self.index]\n",
    "    \n",
    "    # moves the pointer a character forward\n",
    "    def forward(self) -> None:\n",
    "        self.index += 1\n",
    "\n",
    "        # checks if index is out of range\n",
    "        if (self.index >= len(self.input)):\n",
    "            self.current_char = None\n",
    "            return\n",
    "        \n",
    "        self.current_char = self.input[self.index]\n",
    "    \n",
    "    def backward(self) -> None:\n",
    "        self.index -= 1\n",
    "\n",
    "        # checks if index is out of range\n",
    "        if self.index < 0:\n",
    "            self.current_char = None\n",
    "            return\n",
    "        \n",
    "        self.current_char = self.input[self.index]\n",
    "    \n",
    "    def get_int(self) -> int:\n",
    "        if self.index >= len(self.input):\n",
    "            return None\n",
    "        \n",
    "        result = self.input[self.index]\n",
    "\n",
    "        # checks if there are multiple digits\n",
    "        while True:\n",
    "            self.forward()\n",
    "\n",
    "            if self.index < len(self.input) and self.input[self.index] != None and self.input[self.index].isnumeric():\n",
    "                result += self.input[self.index]\n",
    "            else:\n",
    "                self.backward()\n",
    "                break\n",
    "\n",
    "        return int(result)\n",
    "    \n",
    "    def get_var(self) -> string:\n",
    "        if self.index >= len(self.input):\n",
    "            return None\n",
    "        \n",
    "        result = self.input[self.index]\n",
    "\n",
    "        # checks if there is a longer variable name\n",
    "        while True:\n",
    "            self.forward()\n",
    "\n",
    "            if self.index < len(self.input) and self.input[self.index] != None and self.input[self.index].isalpha():\n",
    "                result += self.input[self.index]\n",
    "            else:\n",
    "                self.backward()\n",
    "                break\n",
    "        \n",
    "        return result\n",
    "    \n",
    "    def get_token(self, char: string) -> Token:\n",
    "        token = self.check_for_tokentypes(char)\n",
    "\n",
    "        if token.type != TokenTypes.EOF:\n",
    "            return token\n",
    "        \n",
    "        if char == None:\n",
    "            return token\n",
    "            \n",
    "        # skip spaces.\n",
    "        if char == ' ':\n",
    "            self.forward()\n",
    "            return self.get_token(self.current_char)\n",
    "\n",
    "        # checks if the current character is a number.\n",
    "        if char.isnumeric():\n",
    "            result = self.get_int()\n",
    "            return Token(TokenTypes.INTEGER, result)\n",
    "        \n",
    "        if char.isalpha():\n",
    "            result = self.get_var()\n",
    "            token = self.check_for_tokentypes(result)\n",
    "                  \n",
    "        return token\n",
    "\n",
    "    def check_for_tokentypes(self, char: string) -> Token:\n",
    "         # checks if the current character is a supported token type.\n",
    "        match char:\n",
    "            case TokenTypes.DIVIDE.value:\n",
    "                return Token(TokenTypes.DIVIDE, TokenTypes.DIVIDE.value)\n",
    "            case TokenTypes.MULTIPLY.value:\n",
    "                return Token(TokenTypes.MULTIPLY, TokenTypes.MULTIPLY.value)\n",
    "            case TokenTypes.PLUS.value:\n",
    "                return Token(TokenTypes.PLUS, TokenTypes.PLUS.value)\n",
    "            case TokenTypes.MINUS.value:\n",
    "                return Token(TokenTypes.MINUS, TokenTypes.MINUS.value)\n",
    "            case TokenTypes.LBRACKET.value:\n",
    "                return Token(TokenTypes.LBRACKET, TokenTypes.LBRACKET.value)\n",
    "            case TokenTypes.RBRACKET.value:\n",
    "                return Token(TokenTypes.RBRACKET, TokenTypes.RBRACKET.value)\n",
    "            case TokenTypes.FOR.value:\n",
    "                return Token(TokenTypes.FOR, TokenTypes.FOR.value) \n",
    "            case _:\n",
    "                return Token(TokenTypes.EOF, None)"
   ]
  },
  {
   "cell_type": "markdown",
   "metadata": {},
   "source": [
    "## Testing Lexer Types"
   ]
  },
  {
   "cell_type": "code",
   "execution_count": 5,
   "metadata": {},
   "outputs": [
    {
     "name": "stdout",
     "output_type": "stream",
     "text": [
      "for is of the tokentype: TokenTypes.FOR\n",
      "123 is of the tokentype: TokenTypes.INTEGER\n",
      "+ is of the tokentype: TokenTypes.PLUS\n",
      "5 is of the tokentype: TokenTypes.INTEGER\n",
      "* is of the tokentype: TokenTypes.MULTIPLY\n",
      "23 is of the tokentype: TokenTypes.INTEGER\n"
     ]
    }
   ],
   "source": [
    "lexer = lexicon(\"for 123 + 5 * 23\")\n",
    "\n",
    "while lexer.current_char is not None:\n",
    "    token = lexer.get_token(lexer.current_char)\n",
    "    print(str(token.value) + \" is of the tokentype: \" + str(token.type))\n",
    "    lexer.forward()"
   ]
  },
  {
   "attachments": {},
   "cell_type": "markdown",
   "metadata": {},
   "source": [
    "## Syntax Tree Nodes"
   ]
  },
  {
   "cell_type": "code",
   "execution_count": 6,
   "metadata": {},
   "outputs": [],
   "source": [
    "class BaseNode:\n",
    "    def __init__(self, token) -> None:\n",
    "        self.token = token\n",
    "    \n",
    "    def visit(self, node):\n",
    "        if isinstance(node, OperatorNode):\n",
    "            return self.visit_operatorNode(node)\n",
    "        \n",
    "        return self.visit_numberNode(node)\n",
    "        \n",
    "    def visit_operatorNode(self, node):\n",
    "        match node.token.type:\n",
    "            case TokenTypes.DIVIDE:\n",
    "                return self.visit(node.leftNode) // self.visit(node.rightNode)\n",
    "            case TokenTypes.MULTIPLY:\n",
    "                return self.visit(node.leftNode) * self.visit(node.rightNode)\n",
    "            case TokenTypes.PLUS:\n",
    "                return self.visit(node.leftNode) + self.visit(node.rightNode)\n",
    "            case TokenTypes.MINUS:\n",
    "                return self.visit(node.leftNode) - self.visit(node.rightNode)   \n",
    "\n",
    "    def visit_numberNode(self, node):\n",
    "        return node.value\n",
    "\n",
    "class NumberNode(BaseNode):\n",
    "    def __init__(self, token) -> None:\n",
    "        super().__init__(token)\n",
    "        self.value = token.value\n",
    "\n",
    "class OperatorNode(BaseNode):\n",
    "    def __init__(self, token, leftNode: BaseNode, rightNode: BaseNode) -> None:\n",
    "        super().__init__(token)\n",
    "        self.leftNode = leftNode\n",
    "        self.rightNode = rightNode"
   ]
  },
  {
   "attachments": {},
   "cell_type": "markdown",
   "metadata": {},
   "source": [
    "## Parser"
   ]
  },
  {
   "cell_type": "code",
   "execution_count": 7,
   "metadata": {},
   "outputs": [],
   "source": [
    "class Parser:\n",
    "    def __init__(self, lexer: lexicon) -> None:\n",
    "        self.lexer = lexer\n",
    "        self.current_token = lexer.get_token(self.lexer.current_char)\n",
    "    \n",
    "    def forward(self) -> None:\n",
    "        self.lexer.forward()\n",
    "        self.current_token = lexer.get_token(self.lexer.current_char)\n",
    "    \n",
    "    def expression(self) -> BaseNode:\n",
    "        leftNode = self.term()\n",
    "        token = self.current_token\n",
    "\n",
    "        if token.type == TokenTypes.PLUS or token.type == TokenTypes.MINUS:\n",
    "            self.forward()\n",
    "        \n",
    "            rightNode = self.term()\n",
    "            return OperatorNode(token, leftNode, rightNode)\n",
    "        \n",
    "        return leftNode\n",
    "\n",
    "    def term(self) -> BaseNode:\n",
    "        leftNode = self.number()\n",
    "        token = self.current_token\n",
    "\n",
    "        if token.type == TokenTypes.MULTIPLY or token.type == TokenTypes.DIVIDE:\n",
    "            self.forward()\n",
    "        \n",
    "            rightNode = self.number()\n",
    "            return OperatorNode(token, leftNode,rightNode)\n",
    "        \n",
    "        return leftNode\n",
    "    \n",
    "\n",
    "    def number(self) -> BaseNode:\n",
    "        token = self.current_token\n",
    "\n",
    "        if token.type == TokenTypes.INTEGER:\n",
    "            self.forward()\n",
    "            return NumberNode(token)\n",
    "        \n",
    "        if token.type == TokenTypes.LBRACKET:\n",
    "            self.forward()\n",
    "            node = self.expression()\n",
    "            self.forward()\n",
    "            return node\n",
    "        \n",
    "        return token\n",
    "    \n",
    "    def parse(self) -> BaseNode:\n",
    "        return self.expression()"
   ]
  },
  {
   "cell_type": "code",
   "execution_count": 8,
   "metadata": {},
   "outputs": [],
   "source": [
    "class Interpreter:\n",
    "    def __init__(self, parser: Parser):\n",
    "        self.parser = parser\n",
    "\n",
    "    def interpret(self):\n",
    "        tree = self.parser.parse()\n",
    "        return tree.visit(tree)"
   ]
  },
  {
   "cell_type": "code",
   "execution_count": 12,
   "metadata": {},
   "outputs": [
    {
     "data": {
      "text/plain": [
       "48"
      ]
     },
     "execution_count": 12,
     "metadata": {},
     "output_type": "execute_result"
    }
   ],
   "source": [
    "text = \"(2 * 3 + 2) * (2 + 4)\"\n",
    "lexer = lexicon(text)\n",
    "parser = Parser(lexer)\n",
    "interpreter = Interpreter(parser)\n",
    "result = interpreter.interpret()\n",
    "result"
   ]
  }
 ],
 "metadata": {
  "kernelspec": {
   "display_name": "Python 3",
   "language": "python",
   "name": "python3"
  },
  "language_info": {
   "codemirror_mode": {
    "name": "ipython",
    "version": 3
   },
   "file_extension": ".py",
   "mimetype": "text/x-python",
   "name": "python",
   "nbconvert_exporter": "python",
   "pygments_lexer": "ipython3",
   "version": "3.10.2"
  },
  "orig_nbformat": 4
 },
 "nbformat": 4,
 "nbformat_minor": 2
}
