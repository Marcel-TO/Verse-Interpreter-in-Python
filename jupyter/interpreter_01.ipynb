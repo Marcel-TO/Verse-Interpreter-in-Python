{
 "cells": [
  {
   "attachments": {},
   "cell_type": "markdown",
   "metadata": {},
   "source": [
    "# Verse Interpreter development"
   ]
  },
  {
   "attachments": {},
   "cell_type": "markdown",
   "metadata": {},
   "source": [
    "Essential installs:\n",
    "- `pip3 install .....`\n",
    "\n",
    "\n",
    "This version is used to test the first steps for the verse interpreter. The final version will be used as a full python file."
   ]
  },
  {
   "cell_type": "code",
   "execution_count": 23,
   "metadata": {},
   "outputs": [],
   "source": [
    "import string\n",
    "import math\n",
    "from enum import Enum"
   ]
  },
  {
   "attachments": {},
   "cell_type": "markdown",
   "metadata": {},
   "source": [
    "## Setting Token Enum for testing purpose"
   ]
  },
  {
   "cell_type": "code",
   "execution_count": 31,
   "metadata": {},
   "outputs": [],
   "source": [
    "class Tokens(Enum):\n",
    "    # Data\n",
    "    Integer = int,\n",
    "\n",
    "    # Aritmetics\n",
    "    Plus = \"+\",\n",
    "    Minus = \"-\",\n",
    "    Multiply = \"*\",\n",
    "    Divide = \"/\",\n",
    "\n",
    "    # Else\n",
    "    EOF = None"
   ]
  },
  {
   "cell_type": "code",
   "execution_count": 25,
   "metadata": {},
   "outputs": [
    {
     "data": {
      "text/plain": [
       "[<Tokens.Integer: (<class 'int'>,)>,\n",
       " <Tokens.Plus: ('+',)>,\n",
       " <Tokens.Minus: ('-',)>,\n",
       " <Tokens.Multiply: ('*',)>,\n",
       " <Tokens.Divide: '/'>]"
      ]
     },
     "execution_count": 25,
     "metadata": {},
     "output_type": "execute_result"
    }
   ],
   "source": [
    "list(Tokens)"
   ]
  },
  {
   "cell_type": "code",
   "execution_count": 30,
   "metadata": {},
   "outputs": [],
   "source": [
    "class Token:\n",
    "    def __init__(self, type: Tokens) -> None:\n",
    "        self.type = type"
   ]
  },
  {
   "cell_type": "code",
   "execution_count": 32,
   "metadata": {},
   "outputs": [],
   "source": [
    "class lexicon:\n",
    "    def __init__(self, input: string):\n",
    "        self.input = input\n",
    "        self.index = 0\n",
    "        self.current_char = self.input[self.index]\n",
    "\n",
    "    def error():\n",
    "        raise Exception('Invalid character.')\n",
    "    \n",
    "    # moves the pointer a character forward\n",
    "    def forward(self):\n",
    "        self.index += 1\n",
    "\n",
    "        # check if index out of range\n",
    "        if (self.index > len(self.input)):\n",
    "            self.current_char = None\n",
    "            return\n",
    "        \n",
    "        self.current_char = self.input[self.index]\n",
    "    \n",
    "    def get_token(self):\n",
    "        if self.current_char.isdigit():\n",
    "            return Token(Tokens.Integer)\n",
    "\n",
    "        if self.current_char == Tokens.Divide:\n",
    "            self.forward()\n",
    "            return Token(Tokens.Divide)\n",
    "        \n",
    "        if self.current_char == Tokens.Multiply:\n",
    "            self.forward()\n",
    "            return Token(Tokens.Multiply)\n",
    "        \n",
    "        if self.current_char == Tokens.Plus:\n",
    "            self.forward()\n",
    "            return Token(Tokens.Plus)\n",
    "        \n",
    "        if self.current_char == Tokens.Minus:\n",
    "            self.forward()\n",
    "            return Token(Tokens.Minus)\n",
    "        \n",
    "        return Token(Tokens.EOF)"
   ]
  },
  {
   "cell_type": "code",
   "execution_count": 33,
   "metadata": {},
   "outputs": [],
   "source": [
    "class interpreter:\n",
    "    def __init__(self,lexer: lexicon) -> None:\n",
    "        self.lexer = lexer\n",
    "        self.current_token = self.lexer.get_token()\n",
    "        \n",
    "    def expr(self):\n",
    "        \"\"\"Arithmetic expression parser / interpreter.\n",
    "\n",
    "        calc> 7 + 3 * (10 / (12 / (3 + 1) - 1))\n",
    "        22\n",
    "\n",
    "        expr   : term ((PLUS | MINUS) term)*\n",
    "        term   : factor ((MUL | DIV) factor)*\n",
    "        factor : INTEGER | LPAREN expr RPAREN\n",
    "        \"\"\"\n",
    "        result = self.term()\n",
    "\n",
    "        while self.current_token.type in (Tokens.Plus, Tokens.Minus):\n",
    "            token = self.current_token\n",
    "            if token.type == Tokens.Plus:\n",
    "                self.eat(Tokens.Plus)\n",
    "                result = result + self.term()\n",
    "            elif token.type == Tokens.Minus:\n",
    "                self.eat(Tokens.Minus)\n",
    "                result = result - self.term()\n",
    "\n",
    "        return result"
   ]
  }
 ],
 "metadata": {
  "kernelspec": {
   "display_name": "Python 3",
   "language": "python",
   "name": "python3"
  },
  "language_info": {
   "codemirror_mode": {
    "name": "ipython",
    "version": 3
   },
   "file_extension": ".py",
   "mimetype": "text/x-python",
   "name": "python",
   "nbconvert_exporter": "python",
   "pygments_lexer": "ipython3",
   "version": "3.10.2"
  },
  "orig_nbformat": 4
 },
 "nbformat": 4,
 "nbformat_minor": 2
}
