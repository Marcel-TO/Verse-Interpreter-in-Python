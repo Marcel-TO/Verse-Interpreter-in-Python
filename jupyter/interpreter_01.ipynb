{
 "cells": [
  {
   "attachments": {},
   "cell_type": "markdown",
   "metadata": {},
   "source": [
    "# Verse Interpreter development"
   ]
  },
  {
   "attachments": {},
   "cell_type": "markdown",
   "metadata": {},
   "source": [
    "Essential installs:\n",
    "- `pip3 install .....`\n",
    "\n",
    "\n",
    "This version is used to test the first steps for the verse interpreter. The final version will be used as a full python file."
   ]
  },
  {
   "cell_type": "code",
   "execution_count": 1,
   "metadata": {},
   "outputs": [],
   "source": [
    "import string\n",
    "import math\n",
    "from enum import Enum"
   ]
  },
  {
   "attachments": {},
   "cell_type": "markdown",
   "metadata": {},
   "source": [
    "## Setting Token Enum for testing purpose"
   ]
  },
  {
   "cell_type": "code",
   "execution_count": 48,
   "metadata": {},
   "outputs": [],
   "source": [
    "class Tokens(Enum):\n",
    "    # Data\n",
    "    Integer = int\n",
    "\n",
    "    # Aritmetics\n",
    "    Plus = \"+\"\n",
    "    Minus = \"-\"\n",
    "    Multiply = \"*\"\n",
    "    Divide = \"/\"\n",
    "\n",
    "    # Mehtods\n",
    "    For = \"for\"\n",
    "    LBracket = \"(\"\n",
    "    RBracket = \")\"\n",
    "\n",
    "    # Else\n",
    "    EOF = None"
   ]
  },
  {
   "cell_type": "code",
   "execution_count": 21,
   "metadata": {},
   "outputs": [
    {
     "data": {
      "text/plain": [
       "[<Tokens.Integer: <class 'int'>>,\n",
       " <Tokens.Plus: '+'>,\n",
       " <Tokens.Minus: '-'>,\n",
       " <Tokens.Multiply: '*'>,\n",
       " <Tokens.Divide: '/'>,\n",
       " <Tokens.EOF: None>]"
      ]
     },
     "execution_count": 21,
     "metadata": {},
     "output_type": "execute_result"
    }
   ],
   "source": [
    "list(Tokens)"
   ]
  },
  {
   "cell_type": "code",
   "execution_count": 37,
   "metadata": {},
   "outputs": [],
   "source": [
    "class Token:\n",
    "    def __init__(self, type: Tokens, value) -> None:\n",
    "        self.type = type\n",
    "        self.value = value"
   ]
  },
  {
   "attachments": {},
   "cell_type": "markdown",
   "metadata": {},
   "source": [
    "## Lexer"
   ]
  },
  {
   "cell_type": "code",
   "execution_count": 108,
   "metadata": {},
   "outputs": [],
   "source": [
    "class lexicon:\n",
    "    def __init__(self, input: string):\n",
    "        self.input = input\n",
    "        self.index = 0\n",
    "        self.current_char = self.input[self.index]\n",
    "\n",
    "    def error():\n",
    "        raise Exception('Invalid character.')\n",
    "    \n",
    "    # moves the pointer a character forward\n",
    "    def forward(self, index) -> tuple[str,int]:\n",
    "        index += 1\n",
    "\n",
    "        # check if index out of range\n",
    "        if (index >= len(self.input)):\n",
    "            return None, index\n",
    "        \n",
    "        return self.input[index],index\n",
    "    \n",
    "    def future_token(self, index) -> tuple[Token,int]:\n",
    "        index += 1\n",
    "\n",
    "        # check if index out of range\n",
    "        if (index >= len(self.input)):\n",
    "            return None,index\n",
    "        \n",
    "        return self.get_token(self.input[index], index)\n",
    "    \n",
    "    def get_int(self, index: int) -> tuple[int,int]:\n",
    "        result = ''\n",
    "\n",
    "        # checks if there are multiple digits\n",
    "        while True:\n",
    "            if index < len(self.input) and self.input[index] != None and self.input[index].isdigit():\n",
    "                result += self.input[index]\n",
    "                _,index = self.forward(index)\n",
    "            else:\n",
    "                break\n",
    "\n",
    "        return int(result),index\n",
    "    \n",
    "    def get_token(self, char: string, index: int) -> tuple[Token,int]:\n",
    "        if char is None:\n",
    "            return Token(Tokens.EOF, None),index\n",
    "\n",
    "        if char.isdigit():\n",
    "            result,index = self.get_int(index)\n",
    "            return Token(Tokens.Integer, result),index\n",
    "\n",
    "        if char == Tokens.Divide.value:\n",
    "            return Token(Tokens.Divide, Tokens.Divide.value),index\n",
    "        \n",
    "        if char == Tokens.Multiply.value:\n",
    "            return Token(Tokens.Multiply, Tokens.Multiply.value),index\n",
    "        \n",
    "        if char == Tokens.Plus.value:\n",
    "            return Token(Tokens.Plus, Tokens.Plus.value),index\n",
    "        \n",
    "        if char == Tokens.Minus.value:\n",
    "            return Token(Tokens.Minus, Tokens.Minus.value),index\n",
    "        \n",
    "        if char == ' ':\n",
    "            char,index = self.forward(index)\n",
    "            return self.get_token(char, index)\n",
    "        \n",
    "        return Token(Tokens.EOF, None),index"
   ]
  },
  {
   "cell_type": "markdown",
   "metadata": {},
   "source": [
    "## Testing Lexer Types"
   ]
  },
  {
   "cell_type": "code",
   "execution_count": 110,
   "metadata": {},
   "outputs": [
    {
     "name": "stdout",
     "output_type": "stream",
     "text": [
      "723 is of the tokentype: Tokens.Integer\n",
      "Future:Tokens.Plus\n",
      "\n",
      "+ is of the tokentype: Tokens.Plus\n",
      "Future:Tokens.Integer\n",
      "\n",
      "2 is of the tokentype: Tokens.Integer\n",
      "Future:Tokens.Minus\n",
      "\n",
      "- is of the tokentype: Tokens.Minus\n",
      "Future:Tokens.Integer\n",
      "\n",
      "5 is of the tokentype: Tokens.Integer\n",
      "Future:Tokens.Multiply\n",
      "\n",
      "* is of the tokentype: Tokens.Multiply\n",
      "Future:Tokens.Integer\n",
      "\n",
      "1235 is of the tokentype: Tokens.Integer\n",
      "Future:Tokens.Divide\n",
      "\n",
      "/ is of the tokentype: Tokens.Divide\n",
      "Future:Tokens.Integer\n",
      "\n",
      "100 is of the tokentype: Tokens.Integer\n"
     ]
    }
   ],
   "source": [
    "lexer = lexicon(\"723 + 2 - 5 * 1235 / 100\")\n",
    "\n",
    "while lexer.current_char is not None:\n",
    "    token,lexer.index = lexer.get_token(lexer.current_char, lexer.index)\n",
    "    print(str(token.value) + \" is of the tokentype: \" + str(token.type))\n",
    "    future_token,index = lexer.future_token(lexer.index)\n",
    "    if future_token is not None:\n",
    "        print(\"Future:\" + str(future_token.type) + \"\\n\")\n",
    "    lexer.current_char, lexer.index = lexer.forward(lexer.index)"
   ]
  },
  {
   "attachments": {},
   "cell_type": "markdown",
   "metadata": {},
   "source": [
    "## Syntax Tree Nodes"
   ]
  },
  {
   "cell_type": "code",
   "execution_count": 111,
   "metadata": {},
   "outputs": [],
   "source": [
    "class baseTree:\n",
    "    pass\n",
    "\n",
    "class numberTree(baseTree):\n",
    "    pass\n",
    "\n",
    "class binaryOperatorTree(baseTree):\n",
    "    pass"
   ]
  },
  {
   "attachments": {},
   "cell_type": "markdown",
   "metadata": {},
   "source": [
    "## Parser"
   ]
  },
  {
   "cell_type": "code",
   "execution_count": null,
   "metadata": {},
   "outputs": [],
   "source": [
    "class Parser:\n",
    "    def __init__(self, lexer: lexicon) -> None:\n",
    "        self.lexer = lexer\n",
    "        self.current_token = lexer.get_token(self.lexer.current_char, self.lexer.index)\n",
    "    \n",
    "    def expr(self):\n",
    "        node = self.term()\n",
    "\n",
    "    def term(self):\n",
    "        node = self.factor()\n",
    "\n",
    "    def factor(self):\n",
    "        pass"
   ]
  }
 ],
 "metadata": {
  "kernelspec": {
   "display_name": "Python 3",
   "language": "python",
   "name": "python3"
  },
  "language_info": {
   "codemirror_mode": {
    "name": "ipython",
    "version": 3
   },
   "file_extension": ".py",
   "mimetype": "text/x-python",
   "name": "python",
   "nbconvert_exporter": "python",
   "pygments_lexer": "ipython3",
   "version": "3.10.2"
  },
  "orig_nbformat": 4
 },
 "nbformat": 4,
 "nbformat_minor": 2
}
